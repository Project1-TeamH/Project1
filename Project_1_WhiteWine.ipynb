{
 "cells": [
  {
   "cell_type": "markdown",
   "metadata": {},
   "source": [
    "Project 1 Overview\n",
    "\n",
    "Saturday Tasks\n",
    "- Clean the data set\n",
    "- Put data set into a data frame\n",
    "- Do a binding of the data set by price points\n",
    "    - $9.99 >\n",
    "    - $10 - $19.99\n",
    "    - $20 - $29.99\n",
    "    - $30 - $39.99\n",
    "    - $40 - $49.99\n",
    "    - $50 - $59.99\n",
    "    - $60 - $69.99\n",
    "    - $70 - $79.99\n",
    "    - $80 - $89.99\n",
    "    - $90 - $99.99\n",
    "    - > $100\n",
    "- Focus only on wines that have a price point of $100 or less for the general analysis.\n"
   ]
  },
  {
   "cell_type": "code",
   "execution_count": null,
   "metadata": {},
   "outputs": [],
   "source": [
    "#Dependencies\n",
    "\n",
    "import matplotlib.pyplot as plt\n",
    "import pandas as pd\n",
    "import scipy.stats as st\n",
    "import numpy as np\n",
    "import requests\n",
    "import json\n",
    "#from api_keys import api_key\n",
    "from pprint import pprint\n"
   ]
  },
  {
   "cell_type": "code",
   "execution_count": null,
   "metadata": {},
   "outputs": [],
   "source": [
    "# Wine Study Files\n",
    "wine_data = \"Resources/white-wine-price-rating.csv\""
   ]
  },
  {
   "cell_type": "code",
   "execution_count": null,
   "metadata": {},
   "outputs": [],
   "source": [
    "wine_data = pd.read_csv(wine_data)\n",
    "wine_data.head(20)"
   ]
  },
  {
   "cell_type": "code",
   "execution_count": null,
   "metadata": {},
   "outputs": [],
   "source": [
    "wine_data.count()"
   ]
  },
  {
   "cell_type": "code",
   "execution_count": null,
   "metadata": {},
   "outputs": [],
   "source": [
    "#Dropping lines with incomplete information.\n",
    "wine_data_2 = wine_data.dropna(how=\"any\")\n",
    "wine_data_2.count()"
   ]
  },
  {
   "cell_type": "code",
   "execution_count": null,
   "metadata": {},
   "outputs": [],
   "source": [
    "#Removed Duplicates\n",
    "wine_data_nodupes_df= wine_data_2.drop_duplicates(subset=['FullName'])\n",
    "wine_data_nodupes_df.count()"
   ]
  },
  {
   "cell_type": "code",
   "execution_count": null,
   "metadata": {},
   "outputs": [],
   "source": [
    "wine_data_nodupes_df.describe()"
   ]
  },
  {
   "cell_type": "code",
   "execution_count": null,
   "metadata": {},
   "outputs": [],
   "source": [
    "\n",
    "#Age Demographics - Binned into bins of 4 years.  \n",
    "#bins = [10, 20, 30, 40, 50, 60, 70, 80, 90, 100]\n",
    "\n",
    "# Create the names for the five bins\n",
    "#wine_pricing = [\"<$9.99\", \"$10-$19.99\", \"$20-$29.99\", \"$30-$39.99\", \"$40-$49.99\", \"$50-$59.99\", \"$60-$69.99\", \"$70-$79.99\", \"$80-$89.99\", \"$90-$99.99\", \"$100<\"]\n",
    "\n",
    "#wine_data_bins_df = wine_data_nodupes_df[\"Wine Price Summary\"] = pd.cut(wine_data_nodupes_df[\"WinePrice\"], bins, labels=wine_pricing, include_lowest=True)\n",
    "#wine_data_bins_df"
   ]
  },
  {
   "cell_type": "code",
   "execution_count": null,
   "metadata": {},
   "outputs": [],
   "source": [
    "# Removing records with price >$100\n",
    "wine_under_100_df = wine_data_nodupes_df[wine_data_nodupes_df['WinePrice'] < 100] \n",
    "wine_under_100_df"
   ]
  },
  {
   "cell_type": "code",
   "execution_count": null,
   "metadata": {},
   "outputs": [],
   "source": [
    "wine_under_100_df.describe()"
   ]
  },
  {
   "cell_type": "code",
   "execution_count": null,
   "metadata": {},
   "outputs": [],
   "source": [
    "# Analysis by Region\n",
    "var_stat= wine_under_100_df.groupby('Region')[\"WinePrice\"].var()\n",
    "med_stat= wine_under_100_df.groupby('Region')[\"WinePrice\"].median()\n",
    "std_stat= wine_under_100_df.groupby('Region')[\"WinePrice\"].std()\n",
    "men_stat= wine_under_100_df.groupby('Region')[\"WinePrice\"].mean()\n",
    "sem_stat= wine_under_100_df.groupby('Region')[\"WinePrice\"].sem()\n",
    "\n",
    "wine_region_stats_df = pd.DataFrame({\"Variance\":var_stat, \"Median\": med_stat, \"Mean\": men_stat, \"Standard Dev\": std_stat, \"SEM\": sem_stat})\n",
    "wine_region_stats_df"
   ]
  },
  {
   "cell_type": "code",
   "execution_count": null,
   "metadata": {},
   "outputs": [],
   "source": [
    "count_of_wines_by_region_df = wine_under_100_df.groupby(\"Region\")[\"FullName\"].count()\n",
    "\n",
    "\n",
    "#plt.bar(x_axis, users, color='r', alpha=0.5, align=\"center\"\n",
    "wine_under_100_df.plot(kind=\"bar\")\n",
    "plt.title(\"Number of Wines by Region\")\n",
    "plt.xlabel(\"Regions\")\n",
    "plt.ylabel(\"Number of Unique Wines\")\n",
    "#users2_df= mouse_data_nodupes_df.plot(mouse_data_nodupes_df['Drug Regimen'], kind='bar' , legend=None)\n",
    "plt.show()"
   ]
  },
  {
   "cell_type": "code",
   "execution_count": null,
   "metadata": {},
   "outputs": [],
   "source": []
  },
  {
   "cell_type": "code",
   "execution_count": null,
   "metadata": {},
   "outputs": [],
   "source": []
  }
 ],
 "metadata": {
  "kernelspec": {
   "display_name": "Python 3",
   "language": "python",
   "name": "python3"
  },
  "language_info": {
   "codemirror_mode": {
    "name": "ipython",
    "version": 3
   },
   "file_extension": ".py",
   "mimetype": "text/x-python",
   "name": "python",
   "nbconvert_exporter": "python",
   "pygments_lexer": "ipython3",
   "version": "3.6.10"
  }
 },
 "nbformat": 4,
 "nbformat_minor": 4
}
