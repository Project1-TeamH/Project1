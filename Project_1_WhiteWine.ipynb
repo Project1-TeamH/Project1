{
 "cells": [
  {
   "cell_type": "markdown",
   "metadata": {},
   "source": [
    "Project 1 Overview\n",
    "\n",
    "Saturday Tasks\n",
    "- Clean the data set\n",
    "- Put data set into a data frame\n",
    "- Do a binding of the data set by price points\n",
    "    - $9.99 >\n",
    "    - $10 - $19.99\n",
    "    - $20 - $29.99\n",
    "    - $30 - $39.99\n",
    "    - $40 - $49.99\n",
    "    - $50 - $59.99\n",
    "    - $60 - $69.99\n",
    "    - $70 - $79.99\n",
    "    - $80 - $89.99\n",
    "    - $90 - $99.99\n",
    "    - > $100\n",
    "- Focus only on wines that have a price point of $100 or less for the general analysis.\n"
   ]
  },
  {
   "cell_type": "code",
   "execution_count": 2,
   "metadata": {},
   "outputs": [],
   "source": [
    "#Dependencies\n",
    "\n",
    "import matplotlib.pyplot as plt\n",
    "import pandas as pd\n",
    "import scipy.stats as st\n",
    "import numpy as np\n",
    "import requests\n",
    "import json\n",
    "#from api_keys import api_key\n",
    "from pprint import pprint\n"
   ]
  },
  {
   "cell_type": "code",
   "execution_count": 3,
   "metadata": {},
   "outputs": [],
   "source": [
    "# Wine Study Files\n",
    "wine_data = \"Resources/white-wine-price-ratings.csv\""
   ]
  },
  {
   "cell_type": "code",
   "execution_count": null,
   "metadata": {},
   "outputs": [],
   "source": []
  }
 ],
 "metadata": {
  "kernelspec": {
   "display_name": "Python 3",
   "language": "python",
   "name": "python3"
  },
  "language_info": {
   "codemirror_mode": {
    "name": "ipython",
    "version": 3
   },
   "file_extension": ".py",
   "mimetype": "text/x-python",
   "name": "python",
   "nbconvert_exporter": "python",
   "pygments_lexer": "ipython3",
   "version": "3.6.10"
  }
 },
 "nbformat": 4,
 "nbformat_minor": 4
}
